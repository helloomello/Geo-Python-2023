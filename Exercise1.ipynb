{
 "cells": [
  {
   "cell_type": "markdown",
   "id": "61406f8c-aa4a-44ba-beb6-d4448ff5253b",
   "metadata": {},
   "source": [
    "Problem 1 - Define some variables\n",
    "\n",
    "In the top cell of the new notebook:\n",
    "\n",
    "Create a variable called ice_cream_rating and use it to store an integer value (whole number) between 0 and 10 that reflects your general opinion about how much you enjoy eating ice cream.\n",
    "\n",
    "Create another variable called sleeping_rating and use it to store another integer between 0 and 10 that reflects your opinion about how much you enjoy sleeping.\n",
    "\n",
    "Run the cell by pressing Shift-Enter."
   ]
  },
  {
   "cell_type": "code",
   "execution_count": 8,
   "id": "0168e34e-b704-4ef4-b8d3-2ef5351587ff",
   "metadata": {},
   "outputs": [],
   "source": [
    "ice_cream_rating=8"
   ]
  },
  {
   "cell_type": "code",
   "execution_count": 2,
   "id": "596c609c-490e-4630-980e-12ac0083de1c",
   "metadata": {},
   "outputs": [],
   "source": [
    "sleeping_rating=9"
   ]
  },
  {
   "cell_type": "code",
   "execution_count": 3,
   "id": "369f0942-9750-4e33-8448-6b645054ac9f",
   "metadata": {},
   "outputs": [
    {
     "name": "stdout",
     "output_type": "stream",
     "text": [
      "9\n"
     ]
    }
   ],
   "source": [
    "print(ice_cream_rating)"
   ]
  },
  {
   "cell_type": "markdown",
   "id": "cdcd8c8d-d7ed-43f2-b3c0-3a188873b804",
   "metadata": {},
   "source": [
    "Problem 2 - Reading in variable values\n",
    "\n",
    "In the new cell that appears:\n",
    "\n",
    "Use the input() function to prompt the user to enter their first name and store it in a variable called first_name.\n",
    "\n",
    "Use the input() function again to prompt the user to enter their last name and store it in a variable called last_name.\n",
    "\n",
    "(Optional) Define a third variable called my_name that will combine the user's first and last names into a single character string with a space between the names.\n",
    "\n",
    "Run the cell and enter the requested information at the prompts."
   ]
  },
  {
   "cell_type": "code",
   "execution_count": 6,
   "id": "2d5807dc-0b21-49c6-b2ef-77760a79feae",
   "metadata": {},
   "outputs": [
    {
     "name": "stdin",
     "output_type": "stream",
     "text": [
      "What is your first name? Mel\n",
      "What is your last name? de Silva\n"
     ]
    },
    {
     "name": "stdout",
     "output_type": "stream",
     "text": [
      "Your name is  Mel de Silva\n"
     ]
    }
   ],
   "source": [
    "first_name=input('What is your first name?')\n",
    "last_name=input('What is your last name?')\n",
    "print('Your name is ',first_name,last_name)"
   ]
  },
  {
   "cell_type": "markdown",
   "id": "36532331-7c3c-40f7-8c03-7f7119bc0c94",
   "metadata": {},
   "source": [
    "Problem 3 - A bit of math\n",
    "\n",
    "In order to assess happiness it is necessary to combine the ice cream and sleeping ratings. \n",
    "\n",
    "To do this:\n",
    "Calculate the average of your ice_cream_rating and sleeping_rating variables and store the resulting value in a variable called happiness_rating.\n",
    "\n",
    "Run the cell by pressing Shift-Enter."
   ]
  },
  {
   "cell_type": "code",
   "execution_count": 9,
   "id": "12caef86-c056-48b3-838a-cd4e5b659e01",
   "metadata": {},
   "outputs": [
    {
     "name": "stdout",
     "output_type": "stream",
     "text": [
      "8.5\n"
     ]
    }
   ],
   "source": [
    "happiness_rating=((ice_cream_rating+sleeping_rating)/2)\n",
    "print(happiness_rating)"
   ]
  },
  {
   "cell_type": "markdown",
   "id": "ce06d3ed-86a8-4a5b-9542-ab6704f33a67",
   "metadata": {},
   "source": [
    "Problem 4 - Checking data types\n",
    "The next step is to investigate the kinds of data we're working with. In another Python cell:\n",
    "\n",
    "Use a built-in Python function to check the data types of the ice_cream_rating, first_name, and happiness_rating variables. In order to see the data types for more than one variable in a single Python cell, you will need to print out these values using another built-in Python function.\n",
    "\n",
    "Run the cell by pressing Shift-Enter.\n",
    "\n",
    "Did all of the data types make sense? Were there any data types that were different than you expected? In the new Python cell that appeared after running the code above, enter your responses to the questions above.\n",
    "\n",
    "For the cell containing your answers to the questions above, change the kind of cell from Code to Markdown.\n",
    "\n",
    "Run the Markdown cell by pressing Shift-Enter."
   ]
  },
  {
   "cell_type": "code",
   "execution_count": 10,
   "id": "90691ab2-1745-4a0e-ba93-cf6ead5de078",
   "metadata": {},
   "outputs": [
    {
     "data": {
      "text/plain": [
       "int"
      ]
     },
     "execution_count": 10,
     "metadata": {},
     "output_type": "execute_result"
    }
   ],
   "source": [
    "type(ice_cream_rating)"
   ]
  },
  {
   "cell_type": "code",
   "execution_count": 11,
   "id": "01cd2516-5bdc-43ce-9c85-76cc0aef5652",
   "metadata": {},
   "outputs": [
    {
     "data": {
      "text/plain": [
       "str"
      ]
     },
     "execution_count": 11,
     "metadata": {},
     "output_type": "execute_result"
    }
   ],
   "source": [
    "type(first_name)"
   ]
  },
  {
   "cell_type": "code",
   "execution_count": 12,
   "id": "2cd4e873-ba97-44d2-8b1b-b8d9580a06a4",
   "metadata": {},
   "outputs": [
    {
     "data": {
      "text/plain": [
       "float"
      ]
     },
     "execution_count": 12,
     "metadata": {},
     "output_type": "execute_result"
    }
   ],
   "source": [
    "type(happiness_rating)"
   ]
  },
  {
   "cell_type": "markdown",
   "id": "cd7511d3-0634-48a7-af49-7db322c868f7",
   "metadata": {},
   "source": [
    "All of the data types above make sense."
   ]
  },
  {
   "cell_type": "markdown",
   "id": "b06b6887-d406-4c09-9f94-bcc977fb0ade",
   "metadata": {},
   "source": [
    "Problem 5 - Displaying text on the screen\n",
    "\n",
    "Finally, you can use your Python skills to generate output on the screen similar to that below. Use one command to generate each line of output.\n",
    "\n",
    "My name is Dave and I give eating ice cream a score of 9 out of 10!\n",
    "\n",
    "I am Dave Whipp and my sleeping enjoyment rating is 8 / 10!\n",
    "\n",
    "Based on the factors above, my happiness rating is 8.5 out of 10, or 85.0 %!"
   ]
  },
  {
   "cell_type": "code",
   "execution_count": 13,
   "id": "c43d6b09-17d9-4685-92ce-19eed5339660",
   "metadata": {},
   "outputs": [
    {
     "name": "stdout",
     "output_type": "stream",
     "text": [
      "My name is Mel and I give eating ice cream a score of 8 out of 10.\n"
     ]
    }
   ],
   "source": [
    "print('My name is',first_name,'and I give eating ice cream a score of',ice_cream_rating,'out of 10.')"
   ]
  },
  {
   "cell_type": "code",
   "execution_count": 14,
   "id": "eb78fc33-5861-4f70-9bc5-2c08f19fcb89",
   "metadata": {},
   "outputs": [
    {
     "name": "stdout",
     "output_type": "stream",
     "text": [
      "I am Mel de Silva and my sleeping enjoyment is 9 out of 10.\n"
     ]
    }
   ],
   "source": [
    "print('I am',first_name,last_name,'and my sleeping enjoyment is',sleeping_rating,'out of 10.')"
   ]
  },
  {
   "cell_type": "code",
   "execution_count": 16,
   "id": "68b01d6d-74b1-41b5-bf9e-fd0c611fa8a1",
   "metadata": {},
   "outputs": [
    {
     "name": "stdout",
     "output_type": "stream",
     "text": [
      "Based on the factors above, my happiness rating is 8.5 our of 10, or 85.0 %\n"
     ]
    }
   ],
   "source": [
    "print('Based on the factors above, my happiness rating is',happiness_rating,'our of 10, or',happiness_rating/10*100,'%')"
   ]
  },
  {
   "cell_type": "code",
   "execution_count": null,
   "id": "7bef7a5a-f8db-42b4-84e7-db285cbd0816",
   "metadata": {},
   "outputs": [],
   "source": []
  }
 ],
 "metadata": {
  "kernelspec": {
   "display_name": "Python 3 (ipykernel)",
   "language": "python",
   "name": "python3"
  },
  "language_info": {
   "codemirror_mode": {
    "name": "ipython",
    "version": 3
   },
   "file_extension": ".py",
   "mimetype": "text/x-python",
   "name": "python",
   "nbconvert_exporter": "python",
   "pygments_lexer": "ipython3",
   "version": "3.7.12"
  }
 },
 "nbformat": 4,
 "nbformat_minor": 5
}
